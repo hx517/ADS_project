{
 "cells": [
  {
   "cell_type": "code",
   "execution_count": null,
   "metadata": {
    "collapsed": true
   },
   "outputs": [],
   "source": [
    "%matplotlib inline\n",
    "import numpy as np\n",
    "import pandas as pd\n",
    "from pandas import DataFrame\n",
    "import matplotlib.pylab as plt\n",
    "import os"
   ]
  },
  {
   "cell_type": "code",
   "execution_count": null,
   "metadata": {
    "collapsed": true
   },
   "outputs": [],
   "source": [
    "PUIdata=os.getenv(\"PUIDATA\") "
   ]
  },
  {
   "cell_type": "code",
   "execution_count": null,
   "metadata": {
    "collapsed": true
   },
   "outputs": [],
   "source": [
    "from geopandas import GeoDataFrame\n",
    "shape_path=PUIdata + \"/taxi_zones/taxi_zones.shp\"\n",
    "ct_shape = GeoDataFrame.from_file(shape_path)\n",
    "ct_shape.index=ct_shape.LocationID"
   ]
  },
  {
   "cell_type": "code",
   "execution_count": null,
   "metadata": {
    "collapsed": true
   },
   "outputs": [],
   "source": [
    "from fiona.crs import from_epsg\n",
    "ct_shape.crs = from_epsg(2263) # epsg=4326: lat/on | 26918: NAD83/UTM zone 18N | epsg=2263 is US feet\n",
    "NYC_Area=ct_shape.to_crs(epsg=2263).geometry.area.sum()/(2.788*10**7) # from ft2 to mi2 \n",
    "print ('total NYC land area: %s (mi^2)'%str(NYC_Area)[:5]) # from ft2 to mi2 #epsg=2263 is US feet"
   ]
  },
  {
   "cell_type": "code",
   "execution_count": null,
   "metadata": {
    "collapsed": true
   },
   "outputs": [],
   "source": [
    "yc201604 = pd.read_csv(PUIdata + \"/yellow_tripdata_2016-04.csv\").dropna(subset=['lpep_pickup_datetime','Trip_distance','pickup_longitude','pickup_latitude','dropoff_longitude','dropoff_latitude'])\n",
    "yc201604 = yc201604[['lpep_pickup_datetime','Trip_distance','pickup_longitude','pickup_latitude','dropoff_longitude','dropoff_latitude']]"
   ]
  },
  {
   "cell_type": "markdown",
   "metadata": {},
   "source": [
    "# Inbound"
   ]
  },
  {
   "cell_type": "code",
   "execution_count": 1,
   "metadata": {
    "scrolled": true
   },
   "outputs": [
    {
     "ename": "NameError",
     "evalue": "name 'yc201604' is not defined",
     "output_type": "error",
     "traceback": [
      "\u001b[0;31m---------------------------------------------------------------------------\u001b[0m",
      "\u001b[0;31mNameError\u001b[0m                                 Traceback (most recent call last)",
      "\u001b[0;32m<ipython-input-1-7a2fd26a1967>\u001b[0m in \u001b[0;36m<module>\u001b[0;34m()\u001b[0m\n\u001b[0;32m----> 1\u001b[0;31m \u001b[0myc201604_\u001b[0m \u001b[0;34m=\u001b[0m \u001b[0myc201604\u001b[0m\u001b[0;34m[\u001b[0m\u001b[0myc201604\u001b[0m\u001b[0;34m[\u001b[0m\u001b[0;34m'dropoff_longitude'\u001b[0m\u001b[0;34m]\u001b[0m\u001b[0;34m<\u001b[0m\u001b[0;34m-\u001b[0m\u001b[0;36m73.930\u001b[0m\u001b[0;34m]\u001b[0m\u001b[0;34m\u001b[0m\u001b[0m\n\u001b[0m\u001b[1;32m      2\u001b[0m \u001b[0myc201604_\u001b[0m \u001b[0;34m=\u001b[0m \u001b[0myc201604_\u001b[0m\u001b[0;34m[\u001b[0m\u001b[0myc201604_\u001b[0m\u001b[0;34m[\u001b[0m\u001b[0;34m'dropoff_longitude'\u001b[0m\u001b[0;34m]\u001b[0m\u001b[0;34m>\u001b[0m\u001b[0;34m-\u001b[0m\u001b[0;36m73.979\u001b[0m\u001b[0;34m]\u001b[0m\u001b[0;34m\u001b[0m\u001b[0m\n\u001b[1;32m      3\u001b[0m \u001b[0myc201604_\u001b[0m \u001b[0;34m=\u001b[0m \u001b[0myc201604_\u001b[0m\u001b[0;34m[\u001b[0m\u001b[0myc201604_\u001b[0m\u001b[0;34m[\u001b[0m\u001b[0;34m'dropoff_latitude'\u001b[0m\u001b[0;34m]\u001b[0m\u001b[0;34m<\u001b[0m\u001b[0;36m40.797\u001b[0m\u001b[0;34m]\u001b[0m\u001b[0;34m\u001b[0m\u001b[0m\n\u001b[1;32m      4\u001b[0m \u001b[0myc201604_\u001b[0m \u001b[0;34m=\u001b[0m \u001b[0myc201604_\u001b[0m\u001b[0;34m[\u001b[0m\u001b[0myc201604_\u001b[0m\u001b[0;34m[\u001b[0m\u001b[0;34m'dropoff_latitude'\u001b[0m\u001b[0;34m]\u001b[0m\u001b[0;34m>\u001b[0m\u001b[0;36m40.745\u001b[0m\u001b[0;34m]\u001b[0m\u001b[0;34m\u001b[0m\u001b[0m\n",
      "\u001b[0;31mNameError\u001b[0m: name 'yc201604' is not defined"
     ]
    }
   ],
   "source": [
    "yc201604_ = yc201604[yc201604['dropoff_longitude']<-73.930]\n",
    "yc201604_ = yc201604_[yc201604_['dropoff_longitude']>-73.979]\n",
    "yc201604_ = yc201604_[yc201604_['dropoff_latitude']<40.797]\n",
    "yc201604_ = yc201604_[yc201604_['dropoff_latitude']>40.745]"
   ]
  },
  {
   "cell_type": "code",
   "execution_count": null,
   "metadata": {
    "collapsed": true
   },
   "outputs": [],
   "source": [
    "yc201604_=yc201604_.dropna(axis=0)"
   ]
  },
  {
   "cell_type": "code",
   "execution_count": null,
   "metadata": {
    "collapsed": true
   },
   "outputs": [],
   "source": [
    "import shapely\n",
    "# combine lat and lon to one column\n",
    "yc201604_['lonlat']=zip(yc201604_.pickup_longitude,yc201604_.pickup_latitude)\n",
    "# Create Point Geometry for based on lonlat column\n",
    "yc201604_['geometry']=yc201604_[['lonlat']].applymap(lambda x:shapely.geometry.Point(x))\n",
    "yc201604_.head()"
   ]
  },
  {
   "cell_type": "code",
   "execution_count": null,
   "metadata": {
    "collapsed": true
   },
   "outputs": [],
   "source": [
    "ct_shape = ct_shape.to_crs({'proj':'longlat', 'ellps':'WGS84', 'datum':'WGS84'})"
   ]
  },
  {
   "cell_type": "code",
   "execution_count": null,
   "metadata": {
    "collapsed": true
   },
   "outputs": [],
   "source": [
    "a=[]\n",
    "# check for each citibike stations to see what CT they are belong to\n",
    "for i in range(len(yc201604_)):\n",
    "    try:\n",
    "        a.append(ct_shape[ct_shape.geometry.intersects(yc201604_.iloc[i].geometry)].LocationID.values[0])\n",
    "    except IndexError:\n",
    "        a.append(-1)\n",
    "    print '\\r',\"%\",str((i+1)*100./len(yc201604_))[:4],\n",
    "yc201604_['LocationID']=a"
   ]
  },
  {
   "cell_type": "code",
   "execution_count": null,
   "metadata": {
    "collapsed": true
   },
   "outputs": [],
   "source": [
    "yc_inbound=yc201604_[yc201604_.LocationID.isin([229,140,141,262,263])]"
   ]
  }
 ],
 "metadata": {
  "kernelspec": {
   "display_name": "Python 2",
   "language": "python",
   "name": "python2"
  },
  "language_info": {
   "codemirror_mode": {
    "name": "ipython",
    "version": 2
   },
   "file_extension": ".py",
   "mimetype": "text/x-python",
   "name": "python",
   "nbconvert_exporter": "python",
   "pygments_lexer": "ipython2",
   "version": "2.7.13"
  }
 },
 "nbformat": 4,
 "nbformat_minor": 2
}
